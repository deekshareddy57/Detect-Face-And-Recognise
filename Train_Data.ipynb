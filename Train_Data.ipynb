{
 "cells": [
  {
   "cell_type": "markdown",
   "metadata": {},
   "source": [
    "TRAINING THE RECOGNISER"
   ]
  },
  {
   "cell_type": "markdown",
   "metadata": {},
   "source": [
    "Converting the dataset faces into .yml file"
   ]
  },
  {
   "cell_type": "code",
   "execution_count": 1,
   "metadata": {},
   "outputs": [
    {
     "name": "stdout",
     "output_type": "stream",
     "text": [
      "Collecting opencv-contrib-python\n",
      "  Using cached https://files.pythonhosted.org/packages/aa/4c/a3125e25da4b121b4077c575eee8a691ffabb5d97afc5ae832fd5a7015e3/opencv_contrib_python-4.1.0.25-cp37-cp37m-win32.whl\n",
      "Requirement already satisfied: numpy>=1.14.5 in c:\\users\\latha\\anaconda3\\lib\\site-packages (from opencv-contrib-python) (1.16.2)\n",
      "Installing collected packages: opencv-contrib-python\n",
      "Successfully installed opencv-contrib-python-4.1.0.25\n"
     ]
    }
   ],
   "source": [
    "!pip install opencv-contrib-python"
   ]
  },
  {
   "cell_type": "code",
   "execution_count": 1,
   "metadata": {},
   "outputs": [],
   "source": [
    "import os"
   ]
  },
  {
   "cell_type": "code",
   "execution_count": 2,
   "metadata": {},
   "outputs": [],
   "source": [
    "import numpy as np"
   ]
  },
  {
   "cell_type": "code",
   "execution_count": 3,
   "metadata": {},
   "outputs": [],
   "source": [
    "import cv2"
   ]
  },
  {
   "cell_type": "code",
   "execution_count": 4,
   "metadata": {},
   "outputs": [],
   "source": [
    "from PIL import Image"
   ]
  },
  {
   "cell_type": "code",
   "execution_count": 5,
   "metadata": {},
   "outputs": [],
   "source": [
    "recognizer = cv2.face.LBPHFaceRecognizer_create()\n",
    "path=\"C://Users//Latha//projects//face_rec//facesData\"\n",
    "def getImagesWithID(path):\n",
    "    imagePaths = [os.path.join(path, f) for f in os.listdir(path)]\n",
    "# print image_path\n",
    "#getImagesWithID(path)\n",
    "    faces = []\n",
    "    IDs = []\n",
    "    for imagePath in imagePaths:\n",
    "   #Read the image and convert to grayscale\n",
    "        facesImg = Image.open(imagePath).convert('L')\n",
    "        faceNP = np.array(facesImg, 'uint8')\n",
    "        # Get the Label of the image\n",
    "        ID = int(os.path.split(imagePath)[-1].split(\".\")[1])\n",
    "        # Detect the face in the image\n",
    "        faces.append(faceNP)\n",
    "        IDs.append(ID)\n",
    "        cv2.imshow(\"Adding faces for training\",faceNP)\n",
    "        cv2.waitKey(1000)\n",
    "    return np.array(IDs), faces\n",
    "IDs,faces = getImagesWithID(path)\n",
    "recognizer.train(faces,IDs)\n",
    "recognizer.save(\"C://Users//Latha//projects//face_rec//faceREC//trainingdata.yml\")        \n",
    "cv2.destroyAllWindows()"
   ]
  },
  {
   "cell_type": "code",
   "execution_count": null,
   "metadata": {},
   "outputs": [],
   "source": []
  },
  {
   "cell_type": "code",
   "execution_count": null,
   "metadata": {},
   "outputs": [],
   "source": []
  }
 ],
 "metadata": {
  "kernelspec": {
   "display_name": "Python 3",
   "language": "python",
   "name": "python3"
  },
  "language_info": {
   "codemirror_mode": {
    "name": "ipython",
    "version": 3
   },
   "file_extension": ".py",
   "mimetype": "text/x-python",
   "name": "python",
   "nbconvert_exporter": "python",
   "pygments_lexer": "ipython3",
   "version": "3.7.3"
  }
 },
 "nbformat": 4,
 "nbformat_minor": 2
}
