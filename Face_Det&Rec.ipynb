{
 "cells": [
  {
   "cell_type": "code",
   "execution_count": 1,
   "metadata": {},
   "outputs": [],
   "source": [
    "import cv2"
   ]
  },
  {
   "cell_type": "code",
   "execution_count": 2,
   "metadata": {},
   "outputs": [],
   "source": [
    "import numpy as np"
   ]
  },
  {
   "cell_type": "code",
   "execution_count": null,
   "metadata": {},
   "outputs": [],
   "source": [
    "face_cascade = cv2.CascadeClassifier(\"haarcascade_frontalface_alt.xml\")\n",
    "cap = cv2.VideoCapture(0)\n",
    "rec = cv2.face.LBPHFaceRecognizer_create()\n",
    "rec.read(\"C://Users//Latha//projects//face_rec//faceREC//trainingdata.yml\")\n",
    "id=0\n",
    "\n",
    "\n",
    "fontFace = cv2.FONT_HERSHEY_SIMPLEX\n",
    "fontScale = 1\n",
    "fontColor = (255, 255, 255)\n",
    "\n",
    "while 1:\n",
    "    ret,img = cap.read()\n",
    "    locy = int(img.shape[0]/2) # the text location will be in the middle\n",
    "    locx = int(img.shape[1]/2) #           of the frame for this example\n",
    "    gray = cv2.cvtColor(img, cv2.COLOR_BGR2GRAY)\n",
    " \n",
    "\n",
    "    faces = face_cascade.detectMultiScale(gray, 1.5,5)\n",
    " \n",
    "    for (x,y,w,h) in faces:\n",
    "        cv2.rectangle(img,(x,y),(x+w,y+h),(255,0,0),2)\n",
    "        id,conf=rec.predict(gray[y:y+h,x:x+w])\n",
    "        if(id==1):\n",
    "            id=\"Lakhan\"\n",
    "        if(id==2):\n",
    "            id=\"Vardhan\"\n",
    "        cv2.putText(img,str(id), (locx, locy), fontFace, fontScale, fontColor) \n",
    "     \n",
    "     \n",
    "  \n",
    "    cv2.imshow('img',img)\n",
    "    \n",
    "    if cv2.waitKey(1) == ord('q'):\n",
    "        break\n",
    "cap.release()\n",
    "\n",
    "cv2.destroyAllWindows()"
   ]
  },
  {
   "cell_type": "code",
   "execution_count": null,
   "metadata": {},
   "outputs": [],
   "source": []
  },
  {
   "cell_type": "code",
   "execution_count": null,
   "metadata": {},
   "outputs": [],
   "source": []
  }
 ],
 "metadata": {
  "kernelspec": {
   "display_name": "Python 3",
   "language": "python",
   "name": "python3"
  },
  "language_info": {
   "codemirror_mode": {
    "name": "ipython",
    "version": 3
   },
   "file_extension": ".py",
   "mimetype": "text/x-python",
   "name": "python",
   "nbconvert_exporter": "python",
   "pygments_lexer": "ipython3",
   "version": "3.7.3"
  }
 },
 "nbformat": 4,
 "nbformat_minor": 2
}
